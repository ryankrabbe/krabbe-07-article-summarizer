{
 "cells": [
  {
   "cell_type": "markdown",
   "metadata": {},
   "source": [
    "# Web Mining and Applied NLP (44-620)\n",
    "\n",
    "## Final Project: Article Summarizer\n",
    "\n",
    "### Student Name: Ryan Krabbe\n",
    "\n",
    "### Github Repository: https://github.com/ryankrabbe/krabbe-07-article-summarizer.git\n",
    "\n",
    "Perform the tasks described in the Markdown cells below.  When you have completed the assignment make sure your code cells have all been run (and have output beneath them) and ensure you have committed and pushed ALL of your changes to your assignment repository.\n",
    "\n",
    "You should bring in code from previous assignments to help you answer the questions below.\n",
    "\n",
    "Every question that requires you to write code will have a code cell underneath it; you may either write your entire solution in that cell or write it in a python file (`.py`), then import and run the appropriate code to answer the question."
   ]
  },
  {
   "cell_type": "code",
   "execution_count": 110,
   "metadata": {},
   "outputs": [
    {
     "name": "stdout",
     "output_type": "stream",
     "text": [
      "Package            Version\n",
      "------------------ ------------\n",
      "annotated-types    0.7.0\n",
      "asttokens          3.0.0\n",
      "beautifulsoup4     4.12.3\n",
      "blis               1.0.1\n",
      "bs4                0.0.2\n",
      "catalogue          2.0.10\n",
      "certifi            2024.8.30\n",
      "charset-normalizer 3.4.0\n",
      "click              8.1.7\n",
      "cloudpathlib       0.20.0\n",
      "colorama           0.4.6\n",
      "comm               0.2.2\n",
      "confection         0.1.5\n",
      "contourpy          1.3.1\n",
      "cycler             0.12.1\n",
      "cymem              2.0.10\n",
      "debugpy            1.8.9\n",
      "decorator          5.1.1\n",
      "en_core_web_sm     3.8.0\n",
      "executing          2.1.0\n",
      "fonttools          4.55.0\n",
      "html5lib           1.1\n",
      "idna               3.10\n",
      "ipykernel          6.29.5\n",
      "ipython            8.30.0\n",
      "jedi               0.19.2\n",
      "Jinja2             3.1.4\n",
      "joblib             1.4.2\n",
      "jupyter_client     8.6.3\n",
      "jupyter_core       5.7.2\n",
      "kiwisolver         1.4.7\n",
      "langcodes          3.5.0\n",
      "language_data      1.3.0\n",
      "marisa-trie        1.2.1\n",
      "markdown-it-py     3.0.0\n",
      "MarkupSafe         3.0.2\n",
      "matplotlib         3.9.3\n",
      "matplotlib-inline  0.1.7\n",
      "mdurl              0.1.2\n",
      "murmurhash         1.0.11\n",
      "nest-asyncio       1.6.0\n",
      "nltk               3.9.1\n",
      "numpy              2.0.2\n",
      "packaging          24.2\n",
      "parso              0.8.4\n",
      "pillow             11.0.0\n",
      "pip                24.3.1\n",
      "platformdirs       4.3.6\n",
      "preshed            3.0.9\n",
      "prompt_toolkit     3.0.48\n",
      "psutil             6.1.0\n",
      "pure_eval          0.2.3\n",
      "pydantic           2.10.2\n",
      "pydantic_core      2.27.1\n",
      "Pygments           2.18.0\n",
      "pyparsing          3.2.0\n",
      "python-dateutil    2.9.0.post0\n",
      "pywin32            308\n",
      "pyzmq              26.2.0\n",
      "regex              2024.11.6\n",
      "requests           2.32.3\n",
      "rich               13.9.4\n",
      "setuptools         75.6.0\n",
      "shellingham        1.5.4\n",
      "six                1.16.0\n",
      "smart-open         7.0.5\n",
      "soupsieve          2.6\n",
      "spacy              3.8.2\n",
      "spacy-legacy       3.0.12\n",
      "spacy-loggers      1.0.5\n",
      "spacytextblob      5.0.0\n",
      "srsly              2.4.8\n",
      "stack-data         0.6.3\n",
      "textblob           0.18.0.post0\n",
      "thinc              8.3.2\n",
      "tornado            6.4.2\n",
      "tqdm               4.67.1\n",
      "traitlets          5.14.3\n",
      "typer              0.14.0\n",
      "typing_extensions  4.12.2\n",
      "urllib3            2.2.3\n",
      "wasabi             1.1.3\n",
      "wcwidth            0.2.13\n",
      "weasel             0.4.1\n",
      "webencodings       0.5.1\n",
      "wrapt              1.17.0\n"
     ]
    }
   ],
   "source": [
    "from collections import Counter\n",
    "import pickle\n",
    "import requests\n",
    "from bs4 import BeautifulSoup\n",
    "from spacytextblob.spacytextblob import SpacyTextBlob\n",
    "import matplotlib as plt\n",
    "import spacy\n",
    "import json\n",
    "import html5lib\n",
    "import nltk\n",
    "\n",
    "!pip list"
   ]
  },
  {
   "cell_type": "markdown",
   "metadata": {},
   "source": [
    "### Question 1\n",
    "\n",
    "Find on the internet an article or blog post about a topic that interests you and you are able to get the text for using the technologies we have applied in the course.  Get the html for the article and store it in a file (which you must submit with your project)"
   ]
  },
  {
   "cell_type": "code",
   "execution_count": 111,
   "metadata": {},
   "outputs": [
    {
     "name": "stdout",
     "output_type": "stream",
     "text": [
      "Article HTML saved to chicago_marathon.pkl\n"
     ]
    }
   ],
   "source": [
    "# Designate URL as variable\n",
    "url = \"https://www.aol.com/3-men-run-every-chicago-100000272.html\"\n",
    "\n",
    "# Send GET request to fetch HTML\n",
    "response = requests.get(url)\n",
    "\n",
    "# Use if and else to test request results\n",
    "if response.status_code == 200:\n",
    "    article_html = response.text\n",
    "else:\n",
    "    raise Exception(f\"Failed to fetch the URL. Status code: {response.status_code}\")\n",
    "\n",
    "# .pkl Path\n",
    "file_path = \"chicago_marathon.pkl\"\n",
    "\n",
    "# Save file as .pkl\n",
    "with open(file_path, \"wb\") as file:\n",
    "    pickle.dump(article_html, file)\n",
    "\n",
    "print(f\"Article HTML saved to {file_path}\")"
   ]
  },
  {
   "cell_type": "markdown",
   "metadata": {},
   "source": [
    "### Question 2\n",
    "\n",
    "Read in your article's html source from the file you created in question 1 and do sentiment analysis on the article/post's text (use `.get_text()`).  Print the polarity score with an appropriate label.  Additionally print the number of sentences in the original article (with an appropriate label)"
   ]
  },
  {
   "cell_type": "code",
   "execution_count": 144,
   "metadata": {},
   "outputs": [
    {
     "name": "stdout",
     "output_type": "stream",
     "text": [
      "3 men have run every Chicago Marathon since 1977. Now in their 70s, they won’t break the streak.Karina Atkins, Chicago TribuneUpdated October 7, 2024 at 4:17 AM Stacey Wescott/Chicago Tribune/TNSRandy Burt ate pepperoni pizza and drank red wine for dinner on Sept. 24, 1977. The next morning, he put on his old high school gym uniform and went to the starting line of the first Chicago Marathon.“I made it past 10 miles feeling pretty good about myself, and then, by around mile 21, that pepperoni pizza started to say hello to me,” recalled Burt, now 76. “I got stomach cramps and saw the top of my shoes because I was bent over.”It may have been a rookie mistake, but he was hooked. Now 45 Chicago Marathons later, Burt is training for his 46th race.The Antioch resident will join more than 50,000 runners expected to make the 26.2-mile trek through the city on Sunday for the city’s 46th marathon, now called the Bank of America Chicago Marathon. (There was no race during the COVID-19 pandemic in 2020.)The first wave of participants will start pounding the pavement at 7:30 a.m. About 77,000 gallons of water and 36,000 gallons of Gatorade will be on hand to help athletes make it to the finish line.Burt is among just two other runners in this year’s race who can say they’ve run every Chicago Marathon since it began. George Mueller, 76, of the Streeterville neighborhood, and Henry Kozlowski, 74, of Wilmette, also were among the 4,200 runners in the city’s inaugural race through Chicago streets in 1977.“George Mueller, Randy Burt and Henry Kozlowski are a shining example of the spirit of the marathon, as they have run every Chicago Marathon since its inception,” said the race’s executive director, Carey Pinkowski, in a statement to the Tribune. “Their dedication to the race is a testament to the power of setting goals and working tirelessly to achieve them.”Mueller and Kozlowski say they also had unpleasant, first-time experiences: Mueller suffered shooting pain in his right knee, and Kozlowski ran far slower than he expected.Despite the odds — Burt only started training a month before, Mueller had traded in cigarettes for distance running, and Kozlowski’s main form of cardio was pickup soccer — the three Chicago-area natives were among the 2,100 runners to complete Chicago’s first marathon.“Some ran bent forward, their heads pushing toward the finish line that lay two dozen miles off. Some led with their legs, their heads and body pulled back,” the Tribune reported at the time. “Some runners seemed to leap. Others seemed to barely lift their feet. Some ran with little effort. But after the first two miles, most began to sweat.”And, they’ve learned a lot since that first race, adopting some new routines to make their impressive streak possible.Burt, for example, plans to wake up at 2:30 a.m. for next Sunday’s marathon. He’s swapped the pre-race pizza and wine for power gels and a banana. After the race, he said he’ll mow the lawn to keep the lactic acid from building up in his legs.The men are also fond of keeping traditions alive.Kozlowski has worn his “famous” high school gym shorts for every Chicago Marathon and doesn’t plan to mess with the tried-and-true attire next weekend.Mueller similarly won’t be seen on the course without the Livestrong shirt he’s worn since the 2007 marathon he ran months after having foot surgery. And, his pre-run dinner is always homemade lasagna; he doesn’t trust any restaurant right before race day.As they’ve aged, race day has become less about beating personal records and more about staying active and crossing the finish line.“One of my short-range goals is to do the 50th Chicago Marathon,” Burt said. “It will be my 100th marathon and I’ll be 80 years old, so it’s a lot of neat numbers coming together.”Kozlowski and Mueller don’t see their last marathon in sight either.“As I get older, the motivation is not to turn into a couch potato,” Kozlowski said. “It’s basically a way to fight my battle against chronology. I intend to live forever or die trying.”Chicago Tribune’s Peter Breen contributed.\n",
      "\n",
      "Polarity score: 0.1252171560323734\n",
      "\n",
      "The article's polarity score of 0.1252171560323734 indicates that this article is more positive than negative, but leans on the neutral side.\n",
      "\n",
      "The Number of sentences in the article is: 39\n"
     ]
    }
   ],
   "source": [
    "# Load HTML article from .pkl file\n",
    "with open(\"chicago_marathon.pkl\", \"rb\") as file:\n",
    "    html_article = pickle.load(file)\n",
    "\n",
    "# Parse HTML with BeautifulSoup\n",
    "soup = BeautifulSoup(html_article, \"html.parser\")\n",
    "\n",
    "# Making sure soup ONLY finds the article\n",
    "article = soup.find('article')\n",
    "\n",
    "# Print and Extract contents of the article\n",
    "Text = article.get_text()\n",
    "print(Text)\n",
    "\n",
    "# Load spaCy model\n",
    "nlp = spacy.load(\"en_core_web_sm\")\n",
    "\n",
    "# Add spacytextblob to the pipeline\n",
    "nlp.add_pipe(\"spacytextblob\")\n",
    "\n",
    "# Performing sentiment analysis on the article text\n",
    "doc = nlp(Text)\n",
    "polarity_score = doc._.blob.polarity\n",
    "print(f\"\\nPolarity score: {polarity_score}\")\n",
    "print(f\"\\nThe article's polarity score of 0.1252171560323734 indicates that this article is more positive than negative, but leans on the neutral side.\")\n",
    "\n",
    "# Count number of Sentences from Article\n",
    "number_sentences = len(list(doc.sents))\n",
    "print(f\"\\nThe Number of sentences in the article is: {number_sentences}\")"
   ]
  },
  {
   "cell_type": "markdown",
   "metadata": {},
   "source": [
    "### Question 3\n",
    "\n",
    "Load the article text into a trained `spaCy` pipeline, and determine the 5 most frequent tokens (converted to lower case).  Print the common tokens with an appropriate label.  Additionally, print the tokens their frequencies (with appropriate labels)"
   ]
  },
  {
   "cell_type": "code",
   "execution_count": 145,
   "metadata": {},
   "outputs": [
    {
     "name": "stdout",
     "output_type": "stream",
     "text": [
      "Top 5 Most Frequent Tokens:\n",
      "Token: Chicago, Frequency: 13\n",
      "Token: race, Frequency: 11\n",
      "Token: Burt, Frequency: 8\n",
      "Token: Marathon, Frequency: 7\n",
      "Token: marathon, Frequency: 7\n"
     ]
    }
   ],
   "source": [
    "# Import Packages\n",
    "import spacy\n",
    "from collections import Counter\n",
    "\n",
    "# Load spaCy model\n",
    "nlp = spacy.load(\"en_core_web_sm\")\n",
    "\n",
    "# Process the article text\n",
    "doc = nlp(Text)\n",
    "\n",
    "# Filter out tokens that are not needed\n",
    "tokens = [token.text for token in doc if not token.is_punct and not token.is_stop and not token.is_space]\n",
    "\n",
    "# Count frequencies of tokens\n",
    "token_counts = Counter(tokens)\n",
    "\n",
    "# Determine 5 most frequent tokens\n",
    "most_frequent_tokens = token_counts.most_common(5)\n",
    "\n",
    "# Print results\n",
    "print(\"Top 5 Most Frequent Tokens:\")\n",
    "for token, freq in most_frequent_tokens:\n",
    "    print(f\"Token: {token}, Frequency: {freq}\")"
   ]
  },
  {
   "cell_type": "markdown",
   "metadata": {},
   "source": [
    "### Question 4\n",
    "\n",
    "Load the article text into a trained `spaCy` pipeline, and determine the 5 most frequent lemmas (converted to lower case).  Print the common lemmas with an appropriate label.  Additionally, print the lemmas with their frequencies (with appropriate labels)."
   ]
  },
  {
   "cell_type": "code",
   "execution_count": 146,
   "metadata": {},
   "outputs": [
    {
     "name": "stdout",
     "output_type": "stream",
     "text": [
      "Top 5 Most Frequent Lemmas:\n",
      "Lemma: Chicago, Frequency: 13\n",
      "Lemma: race, Frequency: 11\n",
      "Lemma: run, Frequency: 9\n",
      "Lemma: Burt, Frequency: 8\n",
      "Lemma: Marathon, Frequency: 7\n"
     ]
    }
   ],
   "source": [
    "# Filter out lemmas that are not needed\n",
    "lemmas = [token.lemma_ for token in doc if not token.is_punct and not token.is_stop and not token.is_space]\n",
    "\n",
    "# Count frequencies of lemmas\n",
    "lemma_counts = Counter(lemmas)\n",
    "\n",
    "# Determine 5 most frequent lemmas\n",
    "most_frequent_lemmas = lemma_counts.most_common(5)\n",
    "\n",
    "# Print results\n",
    "print(\"Top 5 Most Frequent Lemmas:\")\n",
    "for lemma, freq in most_frequent_lemmas:\n",
    "    print(f\"Lemma: {lemma}, Frequency: {freq}\")"
   ]
  },
  {
   "cell_type": "markdown",
   "metadata": {},
   "source": [
    "### Question 5\n",
    "\n",
    "Make a list containing the scores (using tokens) of every sentence in the article, and plot a histogram with appropriate titles and axis labels of the scores. From your histogram, what seems to be the most common range of scores (put the answer in a comment after your code)?"
   ]
  },
  {
   "cell_type": "code",
   "execution_count": 147,
   "metadata": {},
   "outputs": [
    {
     "data": {
      "image/png": "[encoded data removed]",
      "text/plain": [
       "<Figure size 640x480 with 1 Axes>"
      ]
     },
     "metadata": {},
     "output_type": "display_data"
    }
   ],
   "source": [
    "import matplotlib.pyplot as plt\n",
    "\n",
    "# Load spaCy model\n",
    "nlp = spacy.load(\"en_core_web_sm\")\n",
    "\n",
    "# Process the article text\n",
    "doc = nlp(Text)\n",
    "\n",
    "# Tokenize\n",
    "tokens = [token.text for token in doc if not token.is_punct and not token.is_stop and not token.is_space]\n",
    "\n",
    "# Counting token frequencies\n",
    "tokenCounts = Counter(tokens)\n",
    "\n",
    "# Score sentences and make list\n",
    "tokenScore = [\n",
    "    sum(tokenCounts[token.text.lower()] for token in sentence if token.text.lower() in tokenCounts)\n",
    "    for sentence in doc.sents\n",
    "]\n",
    "\n",
    "# Plot histogram\n",
    "plt.hist(tokenScore, bins=20, color='green', edgecolor='black', alpha=0.7)\n",
    "plt.title('Histogram of Sentence Scores Using Tokens')\n",
    "plt.xlabel('Sentence Score', fontsize=12)\n",
    "plt.ylabel('Frequency', fontsize=12)\n",
    "plt.show()\n",
    "\n",
    "# The most common range of scores are 5 and 20"
   ]
  },
  {
   "cell_type": "markdown",
   "metadata": {},
   "source": [
    "### Question 6\n",
    "\n",
    "Make a list containing the scores (using lemmas) of every sentence in the article, and plot a histogram with appropriate titles and axis labels of the scores.  From your histogram, what seems to be the most common range of scores (put the answer in a comment after your code)?"
   ]
  },
  {
   "cell_type": "code",
   "execution_count": null,
   "metadata": {},
   "outputs": [
    {
     "data": {
      "image/png": "[encoded data removed]",
      "text/plain": [
       "<Figure size 640x480 with 1 Axes>"
      ]
     },
     "metadata": {},
     "output_type": "display_data"
    }
   ],
   "source": [
    "import matplotlib.pyplot as plt\n",
    "\n",
    "# Load spaCy model\n",
    "nlp = spacy.load(\"en_core_web_sm\")\n",
    "\n",
    "# Process the article text\n",
    "doc = nlp(Text)\n",
    "\n",
    "# Tokenize\n",
    "lemmas = [token.lemma_ for token in doc if not token.is_punct and not token.is_stop and not token.is_space]\n",
    "\n",
    "# Counting lemma frequencies\n",
    "lemmaCounts = Counter(lemmas)\n",
    "\n",
    "# Score sentences and make list\n",
    "lemmaScore = [\n",
    "    sum(lemmaCounts[lemma.text.lower()] for lemma in sentence if lemma.text.lower() in lemmaCounts)\n",
    "    for sentence in doc.sents\n",
    "]\n",
    "\n",
    "# Plot histogram\n",
    "plt.hist(lemmaScore, bins=20, color='green', edgecolor='black', alpha=0.7)\n",
    "plt.title('Histogram of Sentence Scores Using Lemmas')\n",
    "plt.xlabel('Sentence Score', fontsize=12)\n",
    "plt.ylabel('Frequency', fontsize=12)\n",
    "plt.show()\n",
    "\n",
    "# The most common range of scores are 0 to 2"
   ]
  },
  {
   "cell_type": "markdown",
   "metadata": {},
   "source": [
    "### Question 7\n",
    "\n",
    "Using the histograms from questions 5 and 6, decide a \"cutoff\" score for tokens and lemmas such that fewer than half the sentences would have a score greater than the cutoff score.  Record the scores in this Markdown cell\n",
    "\n",
    "* Cutoff Score (tokens): 20\n",
    "* Cutoff Score (lemmas): 10\n",
    "\n",
    "Feel free to change these scores as you generate your summaries.  Ideally, we're shooting for at least 6 sentences for our summary, but don't want more than 10 (these numbers are rough estimates; they depend on the length of your article)."
   ]
  },
  {
   "cell_type": "markdown",
   "metadata": {},
   "source": [
    "### Question 8\n",
    "\n",
    "Create a summary of the article by going through every sentence in the article and adding it to an (initially) empty list if its score (based on tokens) is greater than the cutoff score you identified in question 8.  If your loop variable is named `sent`, you may find it easier to add `sent.text.strip()` to your list of sentences.  Print the summary (I would cleanly generate the summary text by `join`ing the strings in your list together with a space (`' '.join(sentence_list)`)."
   ]
  },
  {
   "cell_type": "code",
   "execution_count": 236,
   "metadata": {},
   "outputs": [
    {
     "name": "stdout",
     "output_type": "stream",
     "text": [
      "Summary of the Article based on Tokens:\n",
      "The next morning, he put on his old high school gym uniform and went to the starting line of the first Chicago Marathon. “I made it past 10 miles feeling pretty good about myself, and then, by around mile 21, that pepperoni pizza started to say hello to me,” recalled Burt, now 76. The Antioch resident will join more than 50,000 runners expected to make the 26.2-mile trek through the city on Sunday for the city’s 46th marathon, now called the Bank of America Chicago Marathon. Burt is among just two other runners in this year’s race who can say they’ve run every Chicago Marathon since it began. George Mueller, 76, of the Streeterville neighborhood, and Henry Kozlowski, 74, of Wilmette, also were among the 4,200 runners in the city’s inaugural race through Chicago streets in 1977.“George Mueller, Randy Burt and Henry Kozlowski are a shining example of the spirit of the marathon, as they have run every Chicago Marathon since its inception,” said the race’s executive director, Carey Pinkowski, in a statement to the Tribune. “Their dedication to the race is a testament to the power of setting goals and working tirelessly to achieve them.”Mueller Despite the odds — Burt only started training a month before, Mueller had traded in cigarettes for distance running, and Kozlowski’s main form of cardio was pickup soccer — the three Chicago-area natives were among the 2,100 runners to complete Chicago’s first marathon. “Some ran bent forward, their heads pushing toward the finish line that lay two dozen miles off. ”And, they’ve learned a lot since that first race, adopting some new routines to make their impressive streak possible. He’s swapped the pre-race pizza and wine for power gels and a banana. After the race, he said he’ll mow the lawn to keep the lactic acid from building up in his legs. Kozlowski has worn his “famous” high school gym shorts for every Chicago Marathon and doesn’t plan to mess with the tried-and-true attire next weekend. Mueller similarly won’t be seen on the course without the Livestrong shirt he’s worn since the 2007 marathon he ran months after having foot surgery. And, his pre-run dinner is always homemade lasagna; he doesn’t trust any restaurant right before race day. As they’ve aged, race day has become less about beating personal records and more about staying active and crossing the finish line.\n"
     ]
    }
   ],
   "source": [
    "# Creating the summary\n",
    "summary_token_sentences = [\n",
    "    sent.text.strip() for sent, score in zip(doc.sents, tokenScore) if score > 20\n",
    "]\n",
    "\n",
    "# Join the summary sentences to form the summary text\n",
    "summary_text = ' '.join(summary_token_sentences)\n",
    "\n",
    "# Print the summary\n",
    "print(\"Summary of the Article based on Tokens:\")\n",
    "print(summary_text)"
   ]
  },
  {
   "cell_type": "markdown",
   "metadata": {},
   "source": [
    "### Question 9\n",
    "\n",
    "Print the polarity score of your summary you generated with the token scores (with an appropriate label). Additionally, print the number of sentences in the summarized article."
   ]
  },
  {
   "cell_type": "code",
   "execution_count": null,
   "metadata": {},
   "outputs": [
    {
     "name": "stdout",
     "output_type": "stream",
     "text": [
      "\n",
      "Polarity Score Summary: 0.14195815295815295\n",
      "The Number of Sentences in Summarized Article: 15\n"
     ]
    }
   ],
   "source": [
    "import spacy\n",
    "from spacytextblob.spacytextblob import SpacyTextBlob\n",
    "\n",
    "# Load spaCy model\n",
    "nlp = spacy.load(\"en_core_web_sm\")\n",
    "\n",
    "# Add spacytextblob to the pipeline\n",
    "nlp.add_pipe(\"spacytextblob\")\n",
    "\n",
    "# Process the text and get polarity score\n",
    "doc = nlp(summary_text)\n",
    "polarity_score = doc._.blob.polarity\n",
    "print(f\"\\nPolarity Score Summary: {polarity_score}\")\n",
    "\n",
    "# Print the number of sentences in the summarized article\n",
    "summary_doc = nlp(summary_text)\n",
    "sentence_count = len(list(summary_doc.sents))\n",
    "print(\"The Number of Sentences in Summarized Article:\", sentence_count)\n"
   ]
  },
  {
   "cell_type": "markdown",
   "metadata": {},
   "source": [
    "### Question 10\n",
    "\n",
    "Create a summary of the article by going through every sentence in the article and adding it to an (initially) empty list if its score (based on lemmas) is greater than the cutoff score you identified in question 8.  If your loop variable is named `sent`, you may find it easier to add `sent.text.strip()` to your list of sentences.  Print the summary (I would cleanly generate the summary text by `join`ing the strings in your list together with a space (`' '.join(sentence_list)`)."
   ]
  },
  {
   "cell_type": "code",
   "execution_count": 241,
   "metadata": {},
   "outputs": [
    {
     "name": "stdout",
     "output_type": "stream",
     "text": [
      "Summary of the Article Based on Lemmas:\n",
      "The next morning, he put on his old high school gym uniform and went to the starting line of the first Chicago Marathon. The Antioch resident will join more than 50,000 runners expected to make the 26.2-mile trek through the city on Sunday for the city’s 46th marathon, now called the Bank of America Chicago Marathon. Burt is among just two other runners in this year’s race who can say they’ve run every Chicago Marathon since it began. George Mueller, 76, of the Streeterville neighborhood, and Henry Kozlowski, 74, of Wilmette, also were among the 4,200 runners in the city’s inaugural race through Chicago streets in 1977.“George Mueller, Randy Burt and Henry Kozlowski are a shining example of the spirit of the marathon, as they have run every Chicago Marathon since its inception,” said the race’s executive director, Carey Pinkowski, in a statement to the Tribune. “Some ran bent forward, their heads pushing toward the finish line that lay two dozen miles off. ”And, they’ve learned a lot since that first race, adopting some new routines to make their impressive streak possible. He’s swapped the pre-race pizza and wine for power gels and a banana. After the race, he said he’ll mow the lawn to keep the lactic acid from building up in his legs. Kozlowski has worn his “famous” high school gym shorts for every Chicago Marathon and doesn’t plan to mess with the tried-and-true attire next weekend. Mueller similarly won’t be seen on the course without the Livestrong shirt he’s worn since the 2007 marathon he ran months after having foot surgery. And, his pre-run dinner is always homemade lasagna; he doesn’t trust any restaurant right before race day. As they’ve aged, race day has become less about beating personal records and more about staying active and crossing the finish line.\n"
     ]
    }
   ],
   "source": [
    "# Creating the summary\n",
    "summary_lemma_sentences = [\n",
    "    sent.text.strip() for sent, score in zip(doc.sents, lemmaScore) if score > 10\n",
    "]\n",
    "\n",
    "# Join the summary sentences to form the summary text\n",
    "summary_text_lemma = ' '.join(summary_lemma_sentences)\n",
    "\n",
    "# Print the summary\n",
    "print(\"Summary of the Article Based on Lemmas:\")\n",
    "print(summary_text_lemma)"
   ]
  },
  {
   "cell_type": "markdown",
   "metadata": {},
   "source": [
    "### Question 11\n",
    "\n",
    "Print the polarity score of your summary you generated with the lemma scores (with an appropriate label). Additionally, print the number of sentences in the summarized article."
   ]
  },
  {
   "cell_type": "code",
   "execution_count": null,
   "metadata": {},
   "outputs": [
    {
     "name": "stdout",
     "output_type": "stream",
     "text": [
      "\n",
      "Polarity Score Summary: 0.1322642574816488\n",
      "The Number of Sentences in Summarized Article: 12\n"
     ]
    }
   ],
   "source": [
    "import spacy\n",
    "from spacytextblob.spacytextblob import SpacyTextBlob\n",
    "\n",
    "# Load spaCy model\n",
    "nlp = spacy.load(\"en_core_web_sm\")\n",
    "\n",
    "# Add spacytextblob to the pipeline\n",
    "nlp.add_pipe(\"spacytextblob\")\n",
    "\n",
    "# Process the text and get polarity score\n",
    "doc = nlp(summary_text_lemma)\n",
    "polarity_score = doc._.blob.polarity\n",
    "print(f\"\\nPolarity Score Summary: {polarity_score}\")\n",
    "\n",
    "# Print the number of sentences in the summarized article\n",
    "summary_doc = nlp(summary_text_lemma)\n",
    "sentence_count = len(list(summary_doc.sents))\n",
    "print(\"The Number of Sentences in Summarized Article:\", sentence_count)"
   ]
  },
  {
   "cell_type": "markdown",
   "metadata": {},
   "source": [
    "### Question 12\n",
    "\n",
    "Compare your polarity scores of your summaries to the polarity scores of the initial article.  Is there a difference?  Why do you think that may or may not be?.  Answer in this Markdown cell.  \n",
    "\n",
    "### **Polarity Scores**\n",
    "\n",
    "* Article Polarity Score: 0.1252171560323734\n",
    "* Token Summary Polarity Score: 0.14195815295815295\n",
    "* Lemma Summary Polarity Score: 0.1322642574816488\n",
    "\n",
    "### **Conclusion**\n",
    "\n",
    "* All three scores are close, so the sentiment between the full article and both summaries are similar. Although, all three scores were in the positive range the full article polarity score was the lowest of the three. I believe this is due to none of the words in the full article being taken out or reduced. In the summarized article some of the filler content is taken out and the articles only focus on the \"impactful\" words or sentences, which is why the polarity score is a bit higher than the full article."
   ]
  },
  {
   "cell_type": "markdown",
   "metadata": {},
   "source": [
    "### Question 13\n",
    "\n",
    "Based on your reading of the original article, which summary do you think is better (if there's a difference).  Why do you think this might be?\n",
    "\n",
    "### **Conclusion**\n",
    "In my opinion, the summarized token article is the bet of the three. The article is on the more emotional side telling the story of the few runners who have ran the Chicago Marathon every year since it's inception. The summarized token article does the best job of the three picking up on the emotional pieces of the article and detailing how impressive it is for men of their age to run every Chicago marathon since it's inception in 1977."
   ]
  }
 ],
 "metadata": {
  "kernelspec": {
   "display_name": ".venv",
   "language": "python",
   "name": "python3"
  },
  "language_info": {
   "codemirror_mode": {
    "name": "ipython",
    "version": 3
   },
   "file_extension": ".py",
   "mimetype": "text/x-python",
   "name": "python",
   "nbconvert_exporter": "python",
   "pygments_lexer": "ipython3",
   "version": "3.12.2"
  }
 },
 "nbformat": 4,
 "nbformat_minor": 4
}
